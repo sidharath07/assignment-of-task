{
 "cells": [
  {
   "cell_type": "code",
   "execution_count": 2,
   "id": "056864be-b129-4739-9bf6-4e4ea35202dc",
   "metadata": {},
   "outputs": [],
   "source": [
    "# question no 2"
   ]
  },
  {
   "cell_type": "code",
   "execution_count": 3,
   "id": "79b126a7-96c9-4030-bbb3-e812f69cd303",
   "metadata": {},
   "outputs": [],
   "source": [
    "# find the square of number from 1 to 10"
   ]
  },
  {
   "cell_type": "code",
   "execution_count": 4,
   "id": "93afee7d-33e6-454e-916e-e560466adc4c",
   "metadata": {},
   "outputs": [],
   "source": [
    "s = [1,2,3,4,5,6,7,8,9,10]"
   ]
  },
  {
   "cell_type": "code",
   "execution_count": 5,
   "id": "1d3e781e-c624-4dad-b147-25163fa1bbc8",
   "metadata": {},
   "outputs": [],
   "source": [
    "def sq(x):\n",
    "    return(x**2)\n",
    "    "
   ]
  },
  {
   "cell_type": "code",
   "execution_count": 11,
   "id": "aa1ca9bc-bbf6-4e49-a46d-0440622b73e6",
   "metadata": {},
   "outputs": [
    {
     "data": {
      "text/plain": [
       "[1, 4, 9, 16, 25, 36, 49, 64, 81, 100]"
      ]
     },
     "execution_count": 11,
     "metadata": {},
     "output_type": "execute_result"
    }
   ],
   "source": [
    "list(map(sq, s))"
   ]
  },
  {
   "cell_type": "code",
   "execution_count": 12,
   "id": "0151df6c-f2ce-48eb-b637-ee899931f354",
   "metadata": {},
   "outputs": [],
   "source": [
    "# cheak even no"
   ]
  },
  {
   "cell_type": "code",
   "execution_count": 13,
   "id": "d72f8b6d-9dbf-4eff-a429-ab0e308e1eea",
   "metadata": {},
   "outputs": [
    {
     "data": {
      "text/plain": [
       "[1, 2, 3, 4, 5, 6, 7, 8, 9, 10]"
      ]
     },
     "execution_count": 13,
     "metadata": {},
     "output_type": "execute_result"
    }
   ],
   "source": [
    "s"
   ]
  },
  {
   "cell_type": "code",
   "execution_count": 15,
   "id": "f86f54bf-4ad4-48bd-ace1-8d287258d391",
   "metadata": {},
   "outputs": [
    {
     "data": {
      "text/plain": [
       "[2, 4, 6, 8, 10]"
      ]
     },
     "execution_count": 15,
     "metadata": {},
     "output_type": "execute_result"
    }
   ],
   "source": [
    "list(filter(lambda x : x % 2 == 0 , s))"
   ]
  },
  {
   "cell_type": "code",
   "execution_count": 16,
   "id": "5aecb6df-22e7-4d29-a8ba-599c979bb15e",
   "metadata": {},
   "outputs": [],
   "source": [
    "# filter odd number"
   ]
  },
  {
   "cell_type": "code",
   "execution_count": 19,
   "id": "a7ac09cb-bcf8-40a6-8bb0-c932517d4960",
   "metadata": {},
   "outputs": [
    {
     "data": {
      "text/plain": [
       "[1, 2, 3, 4, 5, 6, 7, 8, 9, 10]"
      ]
     },
     "execution_count": 19,
     "metadata": {},
     "output_type": "execute_result"
    }
   ],
   "source": [
    "s"
   ]
  },
  {
   "cell_type": "code",
   "execution_count": 21,
   "id": "97da8f7f-0ccb-4f7b-8ea0-44b9c4ea92cd",
   "metadata": {},
   "outputs": [
    {
     "data": {
      "text/plain": [
       "[1, 3, 5, 7, 9]"
      ]
     },
     "execution_count": 21,
     "metadata": {},
     "output_type": "execute_result"
    }
   ],
   "source": [
    "list(filter(lambda x : x % 2 !=0 ,s))"
   ]
  },
  {
   "cell_type": "code",
   "execution_count": 27,
   "id": "3a0d3e45-90f9-4aaa-a58b-07d3a574d1ae",
   "metadata": {},
   "outputs": [],
   "source": [
    "# short list of positive and nigetive no"
   ]
  },
  {
   "cell_type": "code",
   "execution_count": 28,
   "id": "b97fc831-df8b-4b71-ab86-5432737db767",
   "metadata": {},
   "outputs": [],
   "source": [
    "s1 = [1,2,3,4,5,6,-1,-2,-3,-4,-5,0]"
   ]
  },
  {
   "cell_type": "code",
   "execution_count": 29,
   "id": "6f320e94-fe49-47a4-a5c3-c8bcf6f42195",
   "metadata": {},
   "outputs": [
    {
     "data": {
      "text/plain": [
       "[1, 2, 3, 4, 5, 6, -1, -2, -3, -4, -5, 0]"
      ]
     },
     "execution_count": 29,
     "metadata": {},
     "output_type": "execute_result"
    }
   ],
   "source": [
    "s1"
   ]
  },
  {
   "cell_type": "code",
   "execution_count": 30,
   "id": "e1ecf51c-fe9e-46f0-a0f9-282da629f1cf",
   "metadata": {},
   "outputs": [
    {
     "data": {
      "text/plain": [
       "[1, 2, 3, 4, 5, 6]"
      ]
     },
     "execution_count": 30,
     "metadata": {},
     "output_type": "execute_result"
    }
   ],
   "source": [
    "list(filter(lambda x : x>0 , s1))"
   ]
  },
  {
   "cell_type": "code",
   "execution_count": 44,
   "id": "29656e02-ddf2-4159-9ea3-d645cf37c3a4",
   "metadata": {},
   "outputs": [
    {
     "data": {
      "text/plain": [
       "[-1, -2, -3, -4, -5]"
      ]
     },
     "execution_count": 44,
     "metadata": {},
     "output_type": "execute_result"
    }
   ],
   "source": [
    "list(filter(lambda x : x<0 , s1))"
   ]
  },
  {
   "cell_type": "code",
   "execution_count": 45,
   "id": "03a7d125-0d42-4408-bf4e-f775ea378eeb",
   "metadata": {},
   "outputs": [],
   "source": [
    "# short list "
   ]
  },
  {
   "cell_type": "code",
   "execution_count": 46,
   "id": "122b7cf7-b287-4208-9f3e-9f2d7a63db22",
   "metadata": {},
   "outputs": [],
   "source": [
    "a = [(\"mango\",99),(\"orange\",80),(\"grapes\",1000)]"
   ]
  },
  {
   "cell_type": "code",
   "execution_count": null,
   "id": "2839a1d2-d9dd-4488-82ad-a45607d72f9c",
   "metadata": {},
   "outputs": [],
   "source": []
  },
  {
   "cell_type": "code",
   "execution_count": null,
   "id": "ebd29f15-b9e5-4e16-a8c4-12209df56f0d",
   "metadata": {},
   "outputs": [],
   "source": []
  },
  {
   "cell_type": "code",
   "execution_count": null,
   "id": "db162852-f7fb-47f9-a46e-4807bcf785fc",
   "metadata": {},
   "outputs": [],
   "source": []
  },
  {
   "cell_type": "code",
   "execution_count": null,
   "id": "3d9143c3-4a08-4a1e-a3c0-6101d6c00c46",
   "metadata": {},
   "outputs": [],
   "source": []
  },
  {
   "cell_type": "code",
   "execution_count": null,
   "id": "7f34ea7e-33fd-4be2-be47-85fb0a47b55b",
   "metadata": {},
   "outputs": [],
   "source": []
  },
  {
   "cell_type": "code",
   "execution_count": 47,
   "id": "fe26dd90-2910-4e06-9d7f-f2b25a1f626b",
   "metadata": {},
   "outputs": [],
   "source": [
    "# company code and password"
   ]
  },
  {
   "cell_type": "code",
   "execution_count": 4,
   "id": "864b1e52-f274-4cf6-a13b-73821e8addd2",
   "metadata": {},
   "outputs": [
    {
     "name": "stdin",
     "output_type": "stream",
     "text": [
      "enter your company password 9155550806\n"
     ]
    }
   ],
   "source": [
    "password = int(input(\"enter your company password\"))\n",
    "if password == 915550806 :\n",
    "    print(\"valid password\")\n",
    "elif password != 9155550806 :\n",
    "    print(\"invalid password\")"
   ]
  },
  {
   "cell_type": "code",
   "execution_count": null,
   "id": "58d33b31-9bf5-45cc-957d-2392d4083fe3",
   "metadata": {},
   "outputs": [],
   "source": []
  }
 ],
 "metadata": {
  "kernelspec": {
   "display_name": "Python 3 (ipykernel)",
   "language": "python",
   "name": "python3"
  },
  "language_info": {
   "codemirror_mode": {
    "name": "ipython",
    "version": 3
   },
   "file_extension": ".py",
   "mimetype": "text/x-python",
   "name": "python",
   "nbconvert_exporter": "python",
   "pygments_lexer": "ipython3",
   "version": "3.10.8"
  }
 },
 "nbformat": 4,
 "nbformat_minor": 5
}
